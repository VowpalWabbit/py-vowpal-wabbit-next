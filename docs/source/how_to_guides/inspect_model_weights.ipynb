{
 "cells": [
  {
   "attachments": {},
   "cell_type": "markdown",
   "metadata": {},
   "source": [
    "# Inspect model weights\n",
    "\n",
    "By default, VW uses a dense representation for model weights. These weights are accessible from Python in a couple of ways.\n",
    "\n",
    "## Using `numpy`\n",
    "\n",
    "The model weights are exposed ({py:meth}`vowpal_wabbit_next.Workspace.weights`) in such a way that Numpy can provide a view into the memory directly. This means there are no memory copies required when inspecting the weights.\n",
    "\n",
    "```{attention}\n",
    "Only dense weights are supported for this method.\n",
    "```\n",
    "\n",
    "There are 3 dimensions to the VW weight array:\n",
    "\n",
    "- The feature index\n",
    "- The model number (VW supports interleaved models), for most configurations there is only 1 though\n",
    "- The weight + extra parameters used for training\n",
    "  - The 0th item in this dimension is the weight itself and the other values should be seen as an implementation detail.\n",
    "\n",
    "If we load up a default model a print the shape of the weights it will confirm this:"
   ]
  },
  {
   "cell_type": "code",
   "execution_count": 1,
   "metadata": {},
   "outputs": [
    {
     "name": "stdout",
     "output_type": "stream",
     "text": [
      "(262144, 1, 4)\n"
     ]
    }
   ],
   "source": [
    "import vowpal_wabbit_next as vw\n",
    "\n",
    "workspace = vw.Workspace([\"--noconstant\"])\n",
    "\n",
    "weights = workspace.weights()\n",
    "\n",
    "print(weights.shape)"
   ]
  },
  {
   "attachments": {},
   "cell_type": "markdown",
   "metadata": {},
   "source": [
    "The number of possible feature indices is equal to the value of `--num_bits/-b`, which is 18 by default. Hence, 2^18 is 262144. There is only 1 model and there are 4 values for each weight. If we pass a few examples to this learner we can inspect the weights learned for each feature."
   ]
  },
  {
   "cell_type": "code",
   "execution_count": 2,
   "metadata": {},
   "outputs": [
    {
     "data": {
      "text/plain": [
       "array([[0.19704719, 4.0011263 , 1.        , 0.49992964]], dtype=float32)"
      ]
     },
     "execution_count": 2,
     "metadata": {},
     "output_type": "execute_result"
    }
   ],
   "source": [
    "text_parser = vw.TextFormatParser(workspace)\n",
    "\n",
    "workspace.learn_one(text_parser.parse_line(\"1 | a b c\"))\n",
    "workspace.learn_one(text_parser.parse_line(\"1 | b c d\"))\n",
    "workspace.learn_one(text_parser.parse_line(\"0.5 | a c\"))\n",
    "\n",
    "weights[workspace.get_index_for_scalar_feature(\"a\")]"
   ]
  },
  {
   "attachments": {},
   "cell_type": "markdown",
   "metadata": {},
   "source": [
    "This shows that a weight of `0.13712466` has been learned for this feature so far. When the model is simple like this we can actually use it to calculate the prediction. Keep in mind we disabled the constant feature earlier, this was to make this calculation easier."
   ]
  },
  {
   "cell_type": "code",
   "execution_count": 3,
   "metadata": {},
   "outputs": [
    {
     "name": "stdout",
     "output_type": "stream",
     "text": [
      "using predict_one = {} 0.313994824886322\n",
      "manual prediction = {} 0.31399484127759936\n"
     ]
    }
   ],
   "source": [
    "print(\n",
    "    \"using predict_one = {}\",\n",
    "    workspace.predict_one(text_parser.parse_line(\"| a:0.7 c:0.6\")),\n",
    ")\n",
    "\n",
    "manual_prediction = (\n",
    "    0.7 * weights[workspace.get_index_for_scalar_feature(\"a\")][0][0]\n",
    "    + 0.6 * weights[workspace.get_index_for_scalar_feature(\"c\")][0][0]\n",
    ")\n",
    "print(\"manual prediction = {}\", manual_prediction)"
   ]
  },
  {
   "attachments": {},
   "cell_type": "markdown",
   "metadata": {},
   "source": [
    "## Using JSON weights\n",
    "\n",
    "There is an API ({py:meth}`vowpal_wabbit_next.Workspace.json_weights`) which dumps the contents of the model to JSON. This is also useful for debugging, especially since it allows for the feature names to be embedded in the JSON too. Note, this format is still experimental and may change in future.\n",
    "\n",
    "To ensure that feature names are recorded there are a few rather verbose options that need to be passed."
   ]
  },
  {
   "cell_type": "code",
   "execution_count": 4,
   "metadata": {},
   "outputs": [
    {
     "name": "stdout",
     "output_type": "stream",
     "text": [
      "{\n",
      "    \"weights\": [\n",
      "        {\n",
      "            \"terms\": [\n",
      "                {\n",
      "                    \"name\": \"d\",\n",
      "                    \"namespace\": \" \",\n",
      "                    \"string_value\": null\n",
      "                }\n",
      "            ],\n",
      "            \"offset\": 0,\n",
      "            \"index\": 70771,\n",
      "            \"value\": 0.14921310544013977\n",
      "        },\n",
      "        {\n",
      "            \"terms\": [\n",
      "                {\n",
      "                    \"name\": \"a\",\n",
      "                    \"namespace\": \" \",\n",
      "                    \"string_value\": null\n",
      "                }\n",
      "            ],\n",
      "            \"offset\": 0,\n",
      "            \"index\": 92594,\n",
      "            \"value\": 0.1371246576309204\n",
      "        },\n",
      "        {\n",
      "            \"terms\": [\n",
      "                {\n",
      "                    \"name\": \"Constant\",\n",
      "                    \"namespace\": \"\",\n",
      "                    \"string_value\": null\n",
      "                }\n",
      "            ],\n",
      "            \"offset\": 0,\n",
      "            \"index\": 116060,\n",
      "            \"value\": 0.2089555412530899\n",
      "        },\n",
      "        {\n",
      "            \"terms\": [\n",
      "                {\n",
      "                    \"name\": \"b\",\n",
      "                    \"namespace\": \" \",\n",
      "                    \"string_value\": null\n",
      "                }\n",
      "            ],\n",
      "            \"offset\": 0,\n",
      "            \"index\": 163331,\n",
      "            \"value\": 0.2274836003780365\n",
      "        },\n",
      "        {\n",
      "            \"terms\": [\n",
      "                {\n",
      "                    \"name\": \"c\",\n",
      "                    \"namespace\": \" \",\n",
      "                    \"string_value\": null\n",
      "                }\n",
      "            ],\n",
      "            \"offset\": 0,\n",
      "            \"index\": 185951,\n",
      "            \"value\": 0.2089555412530899\n",
      "        }\n",
      "    ]\n",
      "}\n"
     ]
    }
   ],
   "source": [
    "import vowpal_wabbit_next as vw\n",
    "import json\n",
    "\n",
    "workspace = vw.Workspace(\n",
    "    [\n",
    "        \"--dump_json_weights_experimental=unused\",\n",
    "        \"--dump_json_weights_include_feature_names_experimental\",\n",
    "    ]\n",
    ")\n",
    "\n",
    "text_parser = vw.TextFormatParser(workspace)\n",
    "\n",
    "workspace.learn_one(text_parser.parse_line(\"1 | a b c\"))\n",
    "workspace.learn_one(text_parser.parse_line(\"1 | b c d\"))\n",
    "workspace.learn_one(text_parser.parse_line(\"0.5 | a c\"))\n",
    "\n",
    "print(\n",
    "    json.dumps(json.loads(workspace.json_weights(include_feature_names=True)), indent=4)\n",
    ")"
   ]
  },
  {
   "attachments": {},
   "cell_type": "markdown",
   "metadata": {},
   "source": [
    "In the above we can find \"a\" and see that its value is the same."
   ]
  }
 ],
 "metadata": {
  "kernelspec": {
   "display_name": "pynextdev",
   "language": "python",
   "name": "python3"
  },
  "language_info": {
   "codemirror_mode": {
    "name": "ipython",
    "version": 3
   },
   "file_extension": ".py",
   "mimetype": "text/x-python",
   "name": "python",
   "nbconvert_exporter": "python",
   "pygments_lexer": "ipython3",
   "version": "3.10.8"
  },
  "vscode": {
   "interpreter": {
    "hash": "3c562d20ef5aa9e83e98cc981b6703965c3968967e80b00b9de18f40ae75cc1c"
   }
  }
 },
 "nbformat": 4,
 "nbformat_minor": 2
}
