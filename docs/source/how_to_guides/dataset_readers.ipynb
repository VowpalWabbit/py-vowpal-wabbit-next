{
 "cells": [
  {
   "attachments": {},
   "cell_type": "markdown",
   "metadata": {},
   "source": [
    "# Dataset readers\n",
    "\n",
    "There are a set of classes to conveniently process datasets that exist in files:\n",
    "\n",
    "- {py:class}`vowpal_wabbit_next.TextFormatReader`\n",
    "- {py:class}`vowpal_wabbit_next.DSJsonFormatReader`\n",
    "- {py:class}`vowpal_wabbit_next.CacheFormatReader`\n",
    "\n",
    "These classes allow you to iterate the contents of the file as parsed examples. The reader adapts automatically based off if the Workspace is for single line or multiline inputs.\n",
    "\n",
    "## `TextFormatReader`"
   ]
  },
  {
   "cell_type": "code",
   "execution_count": 6,
   "metadata": {},
   "outputs": [
    {
     "name": "stdout",
     "output_type": "stream",
     "text": [
      "0.0\n",
      "0.14874061942100525\n",
      "0.008019516244530678\n",
      "-0.09955745935440063\n",
      "-0.23391607403755188\n"
     ]
    }
   ],
   "source": [
    "import vowpal_wabbit_next as vw\n",
    "\n",
    "workspace = vw.Workspace([])\n",
    "\n",
    "with open(\"example.txt\", \"r\") as text_file:\n",
    "    with vw.TextFormatReader(workspace, text_file) as reader:\n",
    "        for example in reader:\n",
    "            print(workspace.predict_then_learn_one(example))"
   ]
  },
  {
   "attachments": {},
   "cell_type": "markdown",
   "metadata": {},
   "source": [
    "## `DSJsonFormatReader`"
   ]
  },
  {
   "cell_type": "code",
   "execution_count": 7,
   "metadata": {},
   "outputs": [
    {
     "name": "stdout",
     "output_type": "stream",
     "text": [
      "[(0, 0.25), (1, 0.25), (2, 0.25), (3, 0.25)]\n",
      "[(0, 0.25), (1, 0.25), (2, 0.25), (3, 0.25)]\n",
      "[(0, 0.9624999761581421), (3, 0.012500000186264515), (1, 0.012500000186264515), (2, 0.012500000186264515)]\n",
      "[(0, 0.9624999761581421), (3, 0.012500000186264515), (1, 0.012500000186264515), (2, 0.012500000186264515)]\n",
      "[(0, 0.9624999761581421), (3, 0.012500000186264515), (1, 0.012500000186264515), (2, 0.012500000186264515)]\n"
     ]
    }
   ],
   "source": [
    "import vowpal_wabbit_next as vw\n",
    "\n",
    "workspace = vw.Workspace([\"--cb_explore_adf\"])\n",
    "\n",
    "with open(\"example.dsjson\", \"r\") as dsjson_file:\n",
    "    with vw.DSJsonFormatReader(workspace, dsjson_file) as reader:\n",
    "        for example in reader:\n",
    "            print(workspace.predict_then_learn_one(example))"
   ]
  },
  {
   "attachments": {},
   "cell_type": "markdown",
   "metadata": {},
   "source": [
    "## `CacheFormatReader`\n",
    " \n",
    "See [Cache format](cache_format.ipynb) for an example of using the cache format."
   ]
  }
 ],
 "metadata": {
  "kernelspec": {
   "display_name": "pynextdev",
   "language": "python",
   "name": "python3"
  },
  "language_info": {
   "codemirror_mode": {
    "name": "ipython",
    "version": 3
   },
   "file_extension": ".py",
   "mimetype": "text/x-python",
   "name": "python",
   "nbconvert_exporter": "python",
   "pygments_lexer": "ipython3",
   "version": "3.10.8"
  },
  "vscode": {
   "interpreter": {
    "hash": "3c562d20ef5aa9e83e98cc981b6703965c3968967e80b00b9de18f40ae75cc1c"
   }
  }
 },
 "nbformat": 4,
 "nbformat_minor": 2
}
