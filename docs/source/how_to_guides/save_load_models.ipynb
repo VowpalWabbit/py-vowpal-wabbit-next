{
 "cells": [
  {
   "attachments": {},
   "cell_type": "markdown",
   "metadata": {},
   "source": [
    "# Save/load models\n",
    "\n",
    "Models can be saved and loaded from `bytes`. Standard Python APIs can be used to read and write the serialized bytes to/from a file.\n",
    "\n",
    "To save a model, use the {py:meth}`vowpal_wabbit_next.Workspace.serialize` method. To load a model, use the `model_data` argument in the {py:class}`vowpal_wabbit_next.Workspace` constructor."
   ]
  },
  {
   "cell_type": "code",
   "execution_count": 2,
   "metadata": {},
   "outputs": [
    {
     "name": "stdout",
     "output_type": "stream",
     "text": [
      "0.43031615018844604\n",
      "0.43031615018844604\n"
     ]
    }
   ],
   "source": [
    "import vowpal_wabbit_next as vw\n",
    "\n",
    "workspace = vw.Workspace([])\n",
    "\n",
    "text_parser = vw.TextFormatParser(workspace)\n",
    "\n",
    "workspace.learn_one(text_parser.parse_line(\"1 | a b c\"))\n",
    "workspace.learn_one(text_parser.parse_line(\"1 | b c d\"))\n",
    "workspace.learn_one(text_parser.parse_line(\"0.5 | a c\"))\n",
    "\n",
    "serialized_workspace = workspace.serialize()\n",
    "\n",
    "loaded_workspace = vw.Workspace([], model_data=serialized_workspace)\n",
    "text_parser2 = vw.TextFormatParser(loaded_workspace)\n",
    "\n",
    "print(workspace.predict_one(text_parser.parse_line(\"| a:0.7 c:0.6\")))\n",
    "print(loaded_workspace.predict_one(text_parser2.parse_line(\"| a:0.7 c:0.6\")))"
   ]
  }
 ],
 "metadata": {
  "kernelspec": {
   "display_name": "pynextdev",
   "language": "python",
   "name": "python3"
  },
  "language_info": {
   "codemirror_mode": {
    "name": "ipython",
    "version": 3
   },
   "file_extension": ".py",
   "mimetype": "text/x-python",
   "name": "python",
   "nbconvert_exporter": "python",
   "pygments_lexer": "ipython3",
   "version": "3.10.8"
  },
  "vscode": {
   "interpreter": {
    "hash": "3c562d20ef5aa9e83e98cc981b6703965c3968967e80b00b9de18f40ae75cc1c"
   }
  }
 },
 "nbformat": 4,
 "nbformat_minor": 2
}
