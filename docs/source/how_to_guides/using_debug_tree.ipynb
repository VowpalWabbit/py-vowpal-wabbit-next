{
 "cells": [
  {
   "attachments": {},
   "cell_type": "markdown",
   "metadata": {},
   "source": [
    "# Using the debug tree\n",
    "\n",
    "```{warning}\n",
    "This debug functionality is highly experimental. Some of the information it exposes may be considered \"internal\" state of VW and is therefore not guaranteed to be stable between releases.\n",
    "```\n",
    "\n",
    "VW is composed of a stack of reductions that implement individual parts of the computation. Problems are solved by transforming the problem into something that has an existing reduction that can solve it. This is done by chaining reductions together. The debug tree is a tool that can be used to visualize the reduction stack and the data that is flowing through it.\n",
    "\n",
    "## How to enable the debug tree\n",
    "\n",
    "When the {py:class}`~vowpal_wabbit_next.Workspace` is constructed the `enable_debug_tree` argument must be set to `True`. This will cause any calls to {py:meth}`~vowpal_wabbit_next.Workspace.predict_one`, {py:meth}`~vowpal_wabbit_next.Workspace.learn_one`, or {py:meth}`~vowpal_wabbit_next.Workspace.predict_then_learn_one` to also return a {py:class}`~vowpal_wabbit_next.DebugNode` object that represents the root of the tree of computation.\n",
    "\n",
    "The {py:class}`~vowpal_wabbit_next.DebugNode` essentially represents a snapshot of state at that place in the reduction stack. There are many properties that can be inspected, and can be seen here: {py:class}`~vowpal_wabbit_next.DebugNode`.\n",
    "\n",
    "Let's say we just wanted to see which reductions were called for a simple default VW model. We can do this by traversing the returned tree and reading the properties of each node as we go."
   ]
  },
  {
   "cell_type": "code",
   "execution_count": 13,
   "metadata": {},
   "outputs": [],
   "source": [
    "def print_tree(node, depth=0):\n",
    "    print(f\"{'  '* depth} {node.name}({node.function}) pred:{node.output_prediction}\")\n",
    "    for child in node.children:\n",
    "        print_tree(child, depth + 1)"
   ]
  },
  {
   "cell_type": "code",
   "execution_count": 14,
   "metadata": {},
   "outputs": [
    {
     "name": "stdout",
     "output_type": "stream",
     "text": [
      " count_label(predict) pred:0.3051726520061493\n",
      "   scorer-identity(predict) pred:0.3051726520061493\n",
      "     gd(predict) pred:0.3051726520061493\n"
     ]
    }
   ],
   "source": [
    "import vowpal_wabbit_next as vw\n",
    "\n",
    "workspace = vw.Workspace(enable_debug_tree=True)\n",
    "parser = vw.TextFormatParser(workspace)\n",
    "\n",
    "workspace.learn_one(parser.parse_line(\"0 | price:.23 sqft:.25 age:.05 2006\"))\n",
    "workspace.learn_one(\n",
    "    parser.parse_line(\"1 2 'second_house | price:.18 sqft:.15 age:.35 1976\")\n",
    ")\n",
    "workspace.learn_one(\n",
    "    parser.parse_line(\"0 1 0.5 'third_house | price:.053 sqft:.32 age:.87 1924\")\n",
    ")\n",
    "\n",
    "prediction, dbg_node = workspace.predict_one(\n",
    "    parser.parse_line(\"| price:0.25 sqft:0.8 age:0.1\")\n",
    ")\n",
    "print_tree(dbg_node)"
   ]
  },
  {
   "attachments": {},
   "cell_type": "markdown",
   "metadata": {},
   "source": [
    "VW uses a variety of different reductions, some of which are for collecting stats or transforming the state of the example as it flows through. In the above example `count_label` is used for reporting and therefore is not going to have a visible effect on the state of the example. \n",
    "\n",
    "In this example we can see that the prediction doesn't change as it propagates back up the tree. However, if we did something like change the link function used, then we could see the effect of that more clearly.\n",
    "\n"
   ]
  },
  {
   "cell_type": "code",
   "execution_count": 15,
   "metadata": {},
   "outputs": [
    {
     "name": "stdout",
     "output_type": "stream",
     "text": [
      " count_label(predict) pred:0.5757064819335938\n",
      "   scorer-logistic(predict) pred:0.5757064819335938\n",
      "     gd(predict) pred:0.3051726520061493\n",
      "0.5757064819335938\n"
     ]
    }
   ],
   "source": [
    "import vowpal_wabbit_next as vw\n",
    "\n",
    "workspace = vw.Workspace([\"--link=logistic\"], enable_debug_tree=True)\n",
    "parser = vw.TextFormatParser(workspace)\n",
    "\n",
    "workspace.learn_one(parser.parse_line(\"0 | price:.23 sqft:.25 age:.05 2006\"))\n",
    "workspace.learn_one(\n",
    "    parser.parse_line(\"1 2 'second_house | price:.18 sqft:.15 age:.35 1976\")\n",
    ")\n",
    "workspace.learn_one(\n",
    "    parser.parse_line(\"0 1 0.5 'third_house | price:.053 sqft:.32 age:.87 1924\")\n",
    ")\n",
    "\n",
    "prediction, dbg_node = workspace.predict_one(\n",
    "    parser.parse_line(\"| price:0.25 sqft:0.8 age:0.1\")\n",
    ")\n",
    "print_tree(dbg_node)\n",
    "print(prediction)"
   ]
  },
  {
   "attachments": {},
   "cell_type": "markdown",
   "metadata": {},
   "source": [
    "## Fetching the scores using the debug tree\n",
    "\n",
    "When using `cb_explore_adf` it can be helpful to inspect the predicted scores were used to generate the exploration distribution. Using the debug tree, you can gain access to those scores."
   ]
  },
  {
   "cell_type": "code",
   "execution_count": 17,
   "metadata": {},
   "outputs": [
    {
     "name": "stdout",
     "output_type": "stream",
     "text": [
      "Action probabilities: [(2, 0.9666666388511658), (1, 0.01666666753590107), (0, 0.01666666753590107)]\n",
      "Action scores: [(2, -0.07499927282333374), (1, -0.01249987818300724), (0, 0.09999903291463852)]\n"
     ]
    }
   ],
   "source": [
    "from typing import Optional\n",
    "import vowpal_wabbit_next as vw\n",
    "\n",
    "\n",
    "workspace = vw.Workspace([\"--cb_explore_adf\"], enable_debug_tree=True)\n",
    "parser = vw.TextFormatParser(workspace)\n",
    "\n",
    "ex = [\n",
    "    parser.parse_line(\"shared | s_1\"),\n",
    "    parser.parse_line(\"0:0.1:0.25 | a:0.5 b:1\"),\n",
    "    parser.parse_line(\"| a:-1 b:-0.5\"),\n",
    "    parser.parse_line(\"| a:-2 b:-1\"),\n",
    "]\n",
    "\n",
    "workspace.learn_one(ex)\n",
    "prediction, debug_node = workspace.predict_one(ex)\n",
    "\n",
    "\n",
    "def find_cb_adf_node(node) -> Optional[vw.DebugNode]:\n",
    "    if node.name == \"cb_adf\":\n",
    "        return node\n",
    "\n",
    "    for child in node.children:\n",
    "        found = find_cb_adf_node(child)\n",
    "        if found:\n",
    "            return found\n",
    "\n",
    "    return None\n",
    "\n",
    "\n",
    "cb_adf_node = find_cb_adf_node(debug_node)\n",
    "\n",
    "print(f\"Action probabilities: {prediction}\")\n",
    "print(f\"Action scores: {cb_adf_node.output_prediction}\")"
   ]
  },
  {
   "attachments": {},
   "cell_type": "markdown",
   "metadata": {},
   "source": [
    "We can also use this to understand the entire process of how the scores are produced."
   ]
  },
  {
   "cell_type": "code",
   "execution_count": 18,
   "metadata": {},
   "outputs": [
    {
     "name": "stdout",
     "output_type": "stream",
     "text": [
      " shared_feature_merger(predict) pred:[(2, 0.9666666388511658), (1, 0.01666666753590107), (0, 0.01666666753590107)]\n",
      "   cb_explore_adf_greedy(predict) pred:[(2, 0.9666666388511658), (1, 0.01666666753590107), (0, 0.01666666753590107)]\n",
      "     cb_adf(predict) pred:[(2, -0.07499927282333374), (1, -0.01249987818300724), (0, 0.09999903291463852)]\n",
      "       csoaa_ldf-rank(predict) pred:[(2, -0.07499927282333374), (1, -0.01249987818300724), (0, 0.09999903291463852)]\n",
      "         scorer-identity(predict) partial_pred:0.09999903291463852\n",
      "           gd(predict) partial_pred:0.09999903291463852\n",
      "         scorer-identity(predict) partial_pred:-0.01249987818300724\n",
      "           gd(predict) partial_pred:-0.01249987818300724\n",
      "         scorer-identity(predict) partial_pred:-0.07499927282333374\n",
      "           gd(predict) partial_pred:-0.07499927282333374\n"
     ]
    }
   ],
   "source": [
    "import vowpal_wabbit_next as vw\n",
    "\n",
    "\n",
    "def print_tree(node, depth=0):\n",
    "    pred = (\n",
    "        f\"pred:{node.output_prediction}\"\n",
    "        if isinstance(node.output_prediction, list)\n",
    "        else \"\"\n",
    "    )\n",
    "    partial_pred = (\n",
    "        f\"partial_pred:{node.partial_prediction}\"\n",
    "        if not isinstance(node.partial_prediction, list)\n",
    "        else \"\"\n",
    "    )\n",
    "    print(f\"{'  '* depth} {node.name}({node.function}) {pred}{partial_pred}\")\n",
    "    for child in node.children:\n",
    "        print_tree(child, depth + 1)\n",
    "\n",
    "\n",
    "workspace = vw.Workspace([\"--cb_explore_adf\"], enable_debug_tree=True)\n",
    "parser = vw.TextFormatParser(workspace)\n",
    "\n",
    "ex = [\n",
    "    parser.parse_line(\"shared | s_1\"),\n",
    "    parser.parse_line(\"0:0.1:0.25 | a:0.5 b:1\"),\n",
    "    parser.parse_line(\"| a:-1 b:-0.5\"),\n",
    "    parser.parse_line(\"| a:-2 b:-1\"),\n",
    "]\n",
    "\n",
    "workspace.learn_one(ex)\n",
    "prediction, debug_node = workspace.predict_one(ex)\n",
    "\n",
    "print_tree(debug_node)"
   ]
  },
  {
   "attachments": {},
   "cell_type": "markdown",
   "metadata": {},
   "source": [
    "## Visualizing runtimes with a flamechart\n",
    "\n",
    "Runtimes of the reductions can be measured and then visualized as a flamechart."
   ]
  },
  {
   "cell_type": "code",
   "execution_count": 19,
   "metadata": {},
   "outputs": [
    {
     "name": "stdout",
     "output_type": "stream",
     "text": [
      "shared_feature_merger(learn) 7917\n",
      "shared_feature_merger(learn);cb_explore_adf_greedy(learn) 2625\n",
      "shared_feature_merger(learn);cb_explore_adf_greedy(learn);cb_adf(learn) 11542\n",
      "shared_feature_merger(learn);cb_explore_adf_greedy(learn);cb_adf(learn);csoaa_ldf-rank(predict) 6625\n",
      "shared_feature_merger(learn);cb_explore_adf_greedy(learn);cb_adf(learn);csoaa_ldf-rank(predict);scorer-identity(predict) 958\n",
      "shared_feature_merger(learn);cb_explore_adf_greedy(learn);cb_adf(learn);csoaa_ldf-rank(predict);scorer-identity(predict);gd(predict) 3000\n",
      "shared_feature_merger(learn);cb_explore_adf_greedy(learn);cb_adf(learn);csoaa_ldf-rank(predict);scorer-identity(predict); 0\n",
      "shared_feature_merger(learn);cb_explore_adf_greedy(learn);cb_adf(learn);csoaa_ldf-rank(predict); 0\n",
      "shared_feature_merger(learn);cb_explore_adf_greedy(learn);cb_adf(learn);csoaa_ldf-rank(predict);scorer-identity(predict) 334\n",
      "shared_feature_merger(learn);cb_explore_adf_greedy(learn);cb_adf(learn);csoaa_ldf-rank(predict);scorer-identity(predict);gd(predict) 459\n",
      "shared_feature_merger(learn);cb_explore_adf_greedy(learn);cb_adf(learn);csoaa_ldf-rank(predict);scorer-identity(predict); 0\n",
      "shared_feature_merger(learn);cb_explore_adf_greedy(learn);cb_adf(learn);csoaa_ldf-rank(predict); 0\n",
      "shared_feature_merger(learn);cb_explore_adf_greedy(learn);cb_adf(learn);csoaa_ldf-rank(predict);scorer-identity(predict) 292\n",
      "shared_feature_merger(learn);cb_explore_adf_greedy(learn);cb_adf(learn);csoaa_ldf-rank(predict);scorer-identity(predict);gd(predict) 375\n",
      "shared_feature_merger(learn);cb_explore_adf_greedy(learn);cb_adf(learn);csoaa_ldf-rank(predict);scorer-identity(predict); 0\n",
      "shared_feature_merger(learn);cb_explore_adf_greedy(learn);cb_adf(learn);csoaa_ldf-rank(predict); 0\n",
      "shared_feature_merger(learn);cb_explore_adf_greedy(learn);cb_adf(learn); 0\n",
      "shared_feature_merger(learn);cb_explore_adf_greedy(learn);cb_adf(learn);csoaa_ldf-rank(learn) 3834\n",
      "shared_feature_merger(learn);cb_explore_adf_greedy(learn);cb_adf(learn);csoaa_ldf-rank(learn);scorer-identity(learn) 1292\n",
      "shared_feature_merger(learn);cb_explore_adf_greedy(learn);cb_adf(learn);csoaa_ldf-rank(learn);scorer-identity(learn);gd(learn) 4542\n",
      "shared_feature_merger(learn);cb_explore_adf_greedy(learn);cb_adf(learn);csoaa_ldf-rank(learn);scorer-identity(learn); 0\n",
      "shared_feature_merger(learn);cb_explore_adf_greedy(learn);cb_adf(learn);csoaa_ldf-rank(learn); 0\n",
      "shared_feature_merger(learn);cb_explore_adf_greedy(learn);cb_adf(learn);csoaa_ldf-rank(learn);scorer-identity(learn) 375\n",
      "shared_feature_merger(learn);cb_explore_adf_greedy(learn);cb_adf(learn);csoaa_ldf-rank(learn);scorer-identity(learn);gd(learn) 500\n",
      "shared_feature_merger(learn);cb_explore_adf_greedy(learn);cb_adf(learn);csoaa_ldf-rank(learn);scorer-identity(learn); 0\n",
      "shared_feature_merger(learn);cb_explore_adf_greedy(learn);cb_adf(learn);csoaa_ldf-rank(learn); 0\n",
      "shared_feature_merger(learn);cb_explore_adf_greedy(learn);cb_adf(learn);csoaa_ldf-rank(learn);scorer-identity(learn) 417\n",
      "shared_feature_merger(learn);cb_explore_adf_greedy(learn);cb_adf(learn);csoaa_ldf-rank(learn);scorer-identity(learn);gd(learn) 458\n",
      "shared_feature_merger(learn);cb_explore_adf_greedy(learn);cb_adf(learn);csoaa_ldf-rank(learn);scorer-identity(learn); 0\n",
      "shared_feature_merger(learn);cb_explore_adf_greedy(learn);cb_adf(learn);csoaa_ldf-rank(learn); 0\n",
      "shared_feature_merger(learn);cb_explore_adf_greedy(learn);cb_adf(learn); 0\n",
      "shared_feature_merger(learn);cb_explore_adf_greedy(learn); 0\n",
      "shared_feature_merger(learn); 0\n"
     ]
    }
   ],
   "source": [
    "import vowpal_wabbit_next as vw\n",
    "\n",
    "\n",
    "def print_node(node, stack_so_far=[]):\n",
    "    extra_colon = \";\" if len(stack_so_far) != 0 else \"\"\n",
    "    print(\n",
    "        f\"{';'.join(stack_so_far)}{extra_colon}{node.name}({node.function}) {node.self_duration_ns}\"\n",
    "    )\n",
    "    for child in node.children:\n",
    "        print_node(child, stack_so_far + [f\"{node.name}({node.function})\"])\n",
    "    if len(stack_so_far) != 0:\n",
    "        print(f\"{';'.join(stack_so_far)}{extra_colon} 0\")\n",
    "\n",
    "\n",
    "workspace = vw.Workspace([\"--cb_explore_adf\", \"--cb_type=ips\"], enable_debug_tree=True)\n",
    "parser = vw.TextFormatParser(workspace)\n",
    "\n",
    "ex = [\n",
    "    parser.parse_line(\"shared | s_1\"),\n",
    "    parser.parse_line(\"0:0.1:0.25 | a:0.5 b:1\"),\n",
    "    parser.parse_line(\"| a:-1 b:-0.5\"),\n",
    "    parser.parse_line(\"| a:-2 b:-1\"),\n",
    "]\n",
    "\n",
    "dbg_node = workspace.learn_one(ex)\n",
    "print_node(dbg_node[0])"
   ]
  },
  {
   "attachments": {},
   "cell_type": "markdown",
   "metadata": {},
   "source": [
    "This output can then be processed using [this tool](https://github.com/brendangregg/FlameGraph). For example:\n",
    "```sh\n",
    "perl flamegraph.pl --flamechart stacktrace.txt > stacktrace.svg\n",
    "```\n",
    "\n",
    "To get a something like:\n",
    "\n",
    "[![flamechart](./flamechart.svg)](./flamechart.svg)"
   ]
  }
 ],
 "metadata": {
  "kernelspec": {
   "display_name": "pynextdev",
   "language": "python",
   "name": "python3"
  },
  "language_info": {
   "codemirror_mode": {
    "name": "ipython",
    "version": 3
   },
   "file_extension": ".py",
   "mimetype": "text/x-python",
   "name": "python",
   "nbconvert_exporter": "python",
   "pygments_lexer": "ipython3",
   "version": "3.10.8"
  },
  "vscode": {
   "interpreter": {
    "hash": "3c562d20ef5aa9e83e98cc981b6703965c3968967e80b00b9de18f40ae75cc1c"
   }
  }
 },
 "nbformat": 4,
 "nbformat_minor": 2
}
