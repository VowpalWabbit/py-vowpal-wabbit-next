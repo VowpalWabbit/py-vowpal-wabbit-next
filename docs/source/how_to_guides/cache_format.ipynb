{
 "cells": [
  {
   "attachments": {},
   "cell_type": "markdown",
   "metadata": {},
   "source": [
    "# Cache format\n",
    "\n",
    "The cache format is a binary format used by VW which is aimed at being fast to read. It can change between releases and is not portable. It is a useful tool to speed things up when a dataset may be processed more than once.\n",
    "\n",
    "For example, the following table shows the time it takes to parse the first 10k lines of the [RCV1 dataset](http://hunch.net/~jl/rcv1.tar.gz).\n",
    "\n",
    "| Input | Time |\n",
    "| --- | --- |\n",
    "| Cache | 11.8 ms +- 0.3 ms |\n",
    "| Text | 31.5 ms +- 1.0 ms |\n",
    "\n",
    "There is support for both reading and writing the cache format. `vowpal_wabbit_next.CacheFormatWriter` can be used to create a cache file, and `vowpal_wabbit_next.CacheFormatReader` to read a cache file.\n",
    "\n",
    "For example, to create a cache file of a sample dataset in VW text format:"
   ]
  },
  {
   "cell_type": "code",
   "execution_count": 1,
   "metadata": {},
   "outputs": [],
   "source": [
    "import vowpal_wabbit_next as vw\n",
    "\n",
    "dataset = [\n",
    "    \"0 | price:.23 sqft:.25 age:.05 2006\",\n",
    "    \"1 | price:.18 sqft:.15 age:.35 1976\",\n",
    "    \"0 | price:.53 sqft:.32 age:.87 1924\",\n",
    "]\n",
    "\n",
    "workspace = vw.Workspace([])\n",
    "text_parser = vw.TextFormatParser(workspace)\n",
    "\n",
    "with open(\"data.cache\", \"wb\") as cache_file:\n",
    "    with vw.CacheFormatWriter(workspace, cache_file) as writer:\n",
    "        for line in dataset:\n",
    "            writer.write_example(text_parser.parse_line(line))"
   ]
  },
  {
   "attachments": {},
   "cell_type": "markdown",
   "metadata": {},
   "source": [
    "Then, to load a learn from the dataset:"
   ]
  },
  {
   "cell_type": "code",
   "execution_count": 3,
   "metadata": {},
   "outputs": [
    {
     "name": "stdout",
     "output_type": "stream",
     "text": [
      "0.0\n",
      "0.0\n",
      "1.0\n"
     ]
    }
   ],
   "source": [
    "workspace = vw.Workspace([])\n",
    "text_parser = vw.TextFormatParser(workspace)\n",
    "\n",
    "with open(\"data.cache\", \"rb\") as cache_file:\n",
    "    with vw.CacheFormatReader(workspace, cache_file) as reader:\n",
    "        for example in reader:\n",
    "            print(workspace.predict_then_learn_one(example))"
   ]
  }
 ],
 "metadata": {
  "kernelspec": {
   "display_name": "pynextdev",
   "language": "python",
   "name": "python3"
  },
  "language_info": {
   "codemirror_mode": {
    "name": "ipython",
    "version": 3
   },
   "file_extension": ".py",
   "mimetype": "text/x-python",
   "name": "python",
   "nbconvert_exporter": "python",
   "pygments_lexer": "ipython3",
   "version": "3.10.8"
  },
  "vscode": {
   "interpreter": {
    "hash": "3c562d20ef5aa9e83e98cc981b6703965c3968967e80b00b9de18f40ae75cc1c"
   }
  }
 },
 "nbformat": 4,
 "nbformat_minor": 2
}
